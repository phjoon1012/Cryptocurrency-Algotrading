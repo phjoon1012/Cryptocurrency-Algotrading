{
 "cells": [
  {
   "cell_type": "markdown",
   "metadata": {},
   "source": [
    "# upbit api로 데이터 가져오기\n",
    "1. 잔고\n",
    "2. 수익률\n",
    "3. 거래 목록\n"
   ]
  },
  {
   "cell_type": "code",
   "execution_count": null,
   "metadata": {},
   "outputs": [],
   "source": []
  },
  {
   "cell_type": "markdown",
   "metadata": {},
   "source": [
    "# 전체 계좌 조회"
   ]
  },
  {
   "cell_type": "code",
   "execution_count": null,
   "metadata": {},
   "outputs": [
    {
     "ename": "AttributeError",
     "evalue": "module 'jwt' has no attribute 'encode'",
     "output_type": "error",
     "traceback": [
      "\u001b[1;31m---------------------------------------------------------------------------\u001b[0m",
      "\u001b[1;31mAttributeError\u001b[0m                            Traceback (most recent call last)",
      "Cell \u001b[1;32mIn[2], line 18\u001b[0m\n\u001b[0;32m     11\u001b[0m server_url \u001b[38;5;241m=\u001b[39m os\u001b[38;5;241m.\u001b[39mgetenv(\u001b[38;5;124m'\u001b[39m\u001b[38;5;124mUPBIT_OPEN_API_SERVER_URL\u001b[39m\u001b[38;5;124m'\u001b[39m)\n\u001b[0;32m     13\u001b[0m payload \u001b[38;5;241m=\u001b[39m {\n\u001b[0;32m     14\u001b[0m     \u001b[38;5;124m'\u001b[39m\u001b[38;5;124maccess_key\u001b[39m\u001b[38;5;124m'\u001b[39m: access_key,\n\u001b[0;32m     15\u001b[0m     \u001b[38;5;124m'\u001b[39m\u001b[38;5;124mnonce\u001b[39m\u001b[38;5;124m'\u001b[39m: \u001b[38;5;28mstr\u001b[39m(uuid\u001b[38;5;241m.\u001b[39muuid4()),\n\u001b[0;32m     16\u001b[0m }\n\u001b[1;32m---> 18\u001b[0m jwt_token \u001b[38;5;241m=\u001b[39m \u001b[43mjwt\u001b[49m\u001b[38;5;241;43m.\u001b[39;49m\u001b[43mencode\u001b[49m(payload, secret_key)\n\u001b[0;32m     19\u001b[0m authorization \u001b[38;5;241m=\u001b[39m \u001b[38;5;124m'\u001b[39m\u001b[38;5;124mBearer \u001b[39m\u001b[38;5;132;01m{}\u001b[39;00m\u001b[38;5;124m'\u001b[39m\u001b[38;5;241m.\u001b[39mformat(jwt_token)\n\u001b[0;32m     20\u001b[0m headers \u001b[38;5;241m=\u001b[39m {\n\u001b[0;32m     21\u001b[0m   \u001b[38;5;124m'\u001b[39m\u001b[38;5;124mAuthorization\u001b[39m\u001b[38;5;124m'\u001b[39m: authorization,\n\u001b[0;32m     22\u001b[0m }\n",
      "\u001b[1;31mAttributeError\u001b[0m: module 'jwt' has no attribute 'encode'"
     ]
    }
   ],
   "source": [
    "import jwt\n",
    "import hashlib\n",
    "import os\n",
    "import requests\n",
    "import uuid\n",
    "from urllib.parse import urlencode, unquote\n",
    "from dotenv import load_dotenv\n",
    "load_dotenv()\n",
    "access_key = os.getenv('UPBIT_OPEN_API_ACCESS_KEY')\n",
    "secret_key = os.getenv('UPBIT_OPEN_API_SECRET_KEY')\n",
    "server_url = os.getenv('UPBIT_OPEN_API_SERVER_URL')\n",
    "\n",
    "payload = {\n",
    "    'access_key': access_key,\n",
    "    'nonce': str(uuid.uuid4()),\n",
    "}\n",
    "\n",
    "jwt_token = jwt.encode(payload, secret_key)\n",
    "authorization = 'Bearer {}'.format(jwt_token)\n",
    "headers = {\n",
    "  'Authorization': authorization,\n",
    "}\n",
    "\n",
    "res = requests.get(server_url + '/v1/accounts', headers=headers)\n",
    "res.json()"
   ]
  },
  {
   "cell_type": "code",
   "execution_count": null,
   "metadata": {},
   "outputs": [],
   "source": []
  },
  {
   "cell_type": "code",
   "execution_count": null,
   "metadata": {},
   "outputs": [],
   "source": []
  }
 ],
 "metadata": {
  "kernelspec": {
   "display_name": ".venv",
   "language": "python",
   "name": "python3"
  },
  "language_info": {
   "codemirror_mode": {
    "name": "ipython",
    "version": 3
   },
   "file_extension": ".py",
   "mimetype": "text/x-python",
   "name": "python",
   "nbconvert_exporter": "python",
   "pygments_lexer": "ipython3",
   "version": "3.11.9"
  }
 },
 "nbformat": 4,
 "nbformat_minor": 2
}
