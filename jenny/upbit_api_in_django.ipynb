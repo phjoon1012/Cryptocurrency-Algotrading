{
 "cells": [
  {
   "cell_type": "markdown",
   "metadata": {},
   "source": [
    "# upbit api로 데이터 가져오기\n",
    "1. 잔고\n",
    "2. 수익률\n",
    "3. 거래 목록\n"
   ]
  },
  {
   "cell_type": "code",
   "execution_count": null,
   "metadata": {},
   "outputs": [],
   "source": []
  },
  {
   "cell_type": "markdown",
   "metadata": {},
   "source": [
    "# 전체 계좌 조회"
   ]
  },
  {
   "cell_type": "code",
   "execution_count": 4,
   "metadata": {},
   "outputs": [
    {
     "data": {
      "text/plain": [
       "[{'currency': 'KRW',\n",
       "  'balance': '196.11652791',\n",
       "  'locked': '0',\n",
       "  'avg_buy_price': '0',\n",
       "  'avg_buy_price_modified': True,\n",
       "  'unit_currency': 'KRW'},\n",
       " {'currency': 'BTC',\n",
       "  'balance': '0.00333324',\n",
       "  'locked': '0',\n",
       "  'avg_buy_price': '149923000',\n",
       "  'avg_buy_price_modified': False,\n",
       "  'unit_currency': 'KRW'},\n",
       " {'currency': 'DOGE',\n",
       "  'balance': '90.7935355',\n",
       "  'locked': '0',\n",
       "  'avg_buy_price': '550.7',\n",
       "  'avg_buy_price_modified': False,\n",
       "  'unit_currency': 'KRW'},\n",
       " {'currency': 'ATH',\n",
       "  'balance': '95.14747859',\n",
       "  'locked': '0',\n",
       "  'avg_buy_price': '105.1',\n",
       "  'avg_buy_price_modified': False,\n",
       "  'unit_currency': 'KRW'},\n",
       " {'currency': 'CVC',\n",
       "  'balance': '0',\n",
       "  'locked': '36.23188405',\n",
       "  'avg_buy_price': '276',\n",
       "  'avg_buy_price_modified': False,\n",
       "  'unit_currency': 'KRW'},\n",
       " {'currency': 'XRP',\n",
       "  'balance': '10.29018376',\n",
       "  'locked': '0',\n",
       "  'avg_buy_price': '4859.00000192',\n",
       "  'avg_buy_price_modified': False,\n",
       "  'unit_currency': 'KRW'},\n",
       " {'currency': 'UXLINK',\n",
       "  'balance': '0',\n",
       "  'locked': '2.11505922',\n",
       "  'avg_buy_price': '2364',\n",
       "  'avg_buy_price_modified': False,\n",
       "  'unit_currency': 'KRW'},\n",
       " {'currency': 'ETH',\n",
       "  'balance': '0.01336957',\n",
       "  'locked': '0',\n",
       "  'avg_buy_price': '5235767.02766058',\n",
       "  'avg_buy_price_modified': False,\n",
       "  'unit_currency': 'KRW'}]"
      ]
     },
     "execution_count": 4,
     "metadata": {},
     "output_type": "execute_result"
    }
   ],
   "source": [
    "import jwt\n",
    "import hashlib\n",
    "import os\n",
    "import requests\n",
    "import uuid\n",
    "from urllib.parse import urlencode, unquote\n",
    "from dotenv import load_dotenv\n",
    "load_dotenv()\n",
    "access_key = os.getenv('UPBIT_OPEN_API_ACCESS_KEY')\n",
    "secret_key = os.getenv('UPBIT_OPEN_API_SECRET_KEY')\n",
    "server_url = os.getenv('UPBIT_OPEN_API_SERVER_URL')\n",
    "\n",
    "payload = {\n",
    "    'access_key': access_key,\n",
    "    'nonce': str(uuid.uuid4()),\n",
    "}\n",
    "\n",
    "jwt_token = jwt.encode(payload, secret_key)\n",
    "authorization = 'Bearer {}'.format(jwt_token)\n",
    "headers = {\n",
    "  'Authorization': authorization,\n",
    "}\n",
    "\n",
    "res = requests.get(server_url + '/v1/accounts', headers=headers)\n",
    "res.json()"
   ]
  },
  {
   "cell_type": "code",
   "execution_count": null,
   "metadata": {},
   "outputs": [],
   "source": []
  }
 ],
 "metadata": {
  "kernelspec": {
   "display_name": "base",
   "language": "python",
   "name": "python3"
  },
  "language_info": {
   "codemirror_mode": {
    "name": "ipython",
    "version": 3
   },
   "file_extension": ".py",
   "mimetype": "text/x-python",
   "name": "python",
   "nbconvert_exporter": "python",
   "pygments_lexer": "ipython3",
   "version": "3.13.1"
  }
 },
 "nbformat": 4,
 "nbformat_minor": 2
}
